{
  "nbformat": 4,
  "nbformat_minor": 0,
  "metadata": {
    "colab": {
      "name": "Scrapping youth literature.ipynb",
      "provenance": [],
      "authorship_tag": "ABX9TyNPmhaxyXp+Ad7kBR7jmB8e",
      "include_colab_link": true
    },
    "kernelspec": {
      "name": "python3",
      "display_name": "Python 3"
    },
    "language_info": {
      "name": "python"
    }
  },
  "cells": [
    {
      "cell_type": "markdown",
      "metadata": {
        "id": "view-in-github",
        "colab_type": "text"
      },
      "source": [
        "<a href=\"https://colab.research.google.com/github/StMaCre/web_scrapping_youth_literature_baltic/blob/main/Scrapping_youth_literature.ipynb\" target=\"_parent\"><img src=\"https://colab.research.google.com/assets/colab-badge.svg\" alt=\"Open In Colab\"/></a>"
      ]
    },
    {
      "cell_type": "markdown",
      "source": [
        "# Web Scrapping - Youth literature in the Baltics\n",
        "Researching information about youth literature in the three Baltic States \n",
        "\n",
        "Question I'd like to answer : \n",
        "* What are the most popular categories of books? \n",
        "* What is the percentage of foreign authors? \n",
        "* What is the average price?\n",
        "* What are the most reviewed books?\n",
        "\n"
      ],
      "metadata": {
        "id": "D-XXKXWxOTNW"
      }
    },
    {
      "cell_type": "code",
      "source": [
        "git remote add origin https://github.com/StMaCre/web_scrapping_youth_literature_baltic.git\n",
        "git branch -M main\n",
        "git push -u origin main"
      ],
      "metadata": {
        "colab": {
          "base_uri": "https://localhost:8080/",
          "height": 131
        },
        "id": "-LLEt8le94jS",
        "outputId": "0b1af7c0-0637-4cbb-91c7-4188af52f876"
      },
      "execution_count": null,
      "outputs": [
        {
          "output_type": "error",
          "ename": "SyntaxError",
          "evalue": "ignored",
          "traceback": [
            "\u001b[0;36m  File \u001b[0;32m\"<ipython-input-4-b784de1ece6c>\"\u001b[0;36m, line \u001b[0;32m1\u001b[0m\n\u001b[0;31m    git remote add origin https://github.com/StMaCre/web_scrapping_youth_literature_baltic.git\u001b[0m\n\u001b[0m             ^\u001b[0m\n\u001b[0;31mSyntaxError\u001b[0m\u001b[0;31m:\u001b[0m invalid syntax\n"
          ]
        }
      ]
    },
    {
      "cell_type": "code",
      "execution_count": null,
      "metadata": {
        "id": "3ARQXtH5OP8J"
      },
      "outputs": [],
      "source": [
        "import requests \n",
        "import re\n",
        "from bs4 import BeautifulSoup \n",
        "import pandas as pd\n",
        "import numpy as np\n",
        "from pprint import pprint\n",
        "from matplotlib import pyplot as plt\n",
        "\n",
        "\n",
        "books = requests.get(\"https://www.knygos.lt/lt/knygos/zanras/literatura-vaikams-ir-jaunimui/\")\n",
        "\n",
        "soup = BeautifulSoup(books.content, \"html.parser\")"
      ]
    },
    {
      "cell_type": "markdown",
      "source": [
        "**Selection of books**\n",
        "\n",
        "Looking at the html file from Knygos.lt you can see that the class for the properties of the books is called \"book-properties\" divided into \"book-author\" and \"book-title\". To limit the selection to the grid containing Youth literature, we need to select the class \"col-12\" (otherwise we would include the promotions that are not related to our topic). \n",
        "\n",
        "There are stars linked to each book. However, in order to analyse the popularity of a book, the number of reviews given to this book seems more relevant. This number is available under the class .badge .badge-secondary\n"
      ],
      "metadata": {
        "id": "RKguUptUlZ8x"
      }
    },
    {
      "cell_type": "code",
      "source": [
        "total_books = soup.select(\".col-12 .book-properties\")\n",
        "\n",
        "#Create a list of authors \n",
        "authors_list = []\n",
        "authors = soup.select(\".col-12 .book-author\")\n",
        "for element in authors: \n",
        "  authors_list.append(element.get_text())\n",
        "\n",
        "# Create a list of titles\n",
        "title_list = []\n",
        "titles = soup.select(\".col-12 .book-title\")\n",
        "for element in titles: \n",
        "  title_list.append(element.get_text())\n",
        "\n",
        "# Create list with the number of reviews\n",
        "reviews_list = []\n",
        "reviews = soup.select(\".col-12 .badge-secondary\")\n",
        "for element in reviews:\n",
        "  reviews_list.append(element.get_text())\n",
        "\n"
      ],
      "metadata": {
        "id": "5GE3nMP0lZb1"
      },
      "execution_count": null,
      "outputs": []
    },
    {
      "cell_type": "markdown",
      "source": [
        "**Getting the different categories**\n",
        "\n",
        "The youth literature books are divided into 11 categories. \n"
      ],
      "metadata": {
        "id": "HE6urHfksQK3"
      }
    },
    {
      "cell_type": "code",
      "source": [
        "categories_list = []\n",
        "categories = soup.select(\"h2 a\")\n",
        "for element in categories: \n",
        "  categories_list.append(element.get_text()[1:].strip())\n",
        "\n",
        "for categorie in categories_list : \n",
        "  print(categorie)"
      ],
      "metadata": {
        "colab": {
          "base_uri": "https://localhost:8080/"
        },
        "id": "Apz-1PmlspVq",
        "outputId": "7e6e0fd8-1785-4b55-e383-333188e8c6b9"
      },
      "execution_count": null,
      "outputs": [
        {
          "output_type": "stream",
          "name": "stdout",
          "text": [
            "Knygos mažiausiems\n",
            "Knygos vaikams\n",
            "Knygos paaugliams\n",
            "Pažintinė literatūra vaikams\n",
            "Pasakos\n",
            "Kakė Makė\n",
            "Lavinamosios, užduočių knygelės\n",
            "Veiklos knygelės\n",
            "Kalėdinės knygelės\n",
            "Mokiniams rekomenduojamos knygos\n",
            "Smagioji edukacija\n"
          ]
        }
      ]
    },
    {
      "cell_type": "markdown",
      "source": [
        "# Creating a dataframe with the informations\n",
        "\n"
      ],
      "metadata": {
        "id": "nNJwP4ykCmRE"
      }
    },
    {
      "cell_type": "code",
      "source": [
        "Categories = []\n",
        "for element in categories_list:\n",
        "    for i in range(16):\n",
        "      Categories.append(element)\n",
        "\n",
        "dictionnary = {\"Title\": title_list, \"author\":authors_list, \"reviews\":reviews_list, \"categories\":Categories}\n",
        "df = pd.DataFrame.from_dict(dictionnary)\n",
        "\n",
        "df[\"reviews\"].replace('', 0, inplace=True) \n",
        "df[\"reviews\"] = df[\"reviews\"].astype(int)\n",
        "\n",
        "print(df)"
      ],
      "metadata": {
        "colab": {
          "base_uri": "https://localhost:8080/"
        },
        "id": "MgpBeKKxDRQt",
        "outputId": "9b9e2279-4c9e-4270-f169-87e61945cfb6"
      },
      "execution_count": null,
      "outputs": [
        {
          "output_type": "stream",
          "name": "stdout",
          "text": [
            "                                   Title                 author  reviews  \\\n",
            "0                               Piktulis  Aprilkind, Barbara...       13   \n",
            "1             Marmiai. Draugystės magija   Indrė Pavilonytė,...        4   \n",
            "2             Petsono ir Finduso Kalėdos         Sven Nordqvist        0   \n",
            "3    Kalėdų naktis: su stebuklingu 3D...                               5   \n",
            "4    SNIEGO SESĖ: sniego ir paslapčių...             Maja Lunde       13   \n",
            "..                                   ...                    ...      ...   \n",
            "171  Jurgis Bielinis ir mažieji knygn...     Viltarė Ryčkovienė        0   \n",
            "172  Smegenų mankšta. Iššūkis: jaunoj...           Gareth Moore        2   \n",
            "173    Kūrybinės užduotys 4 metų vaikams                               0   \n",
            "174                 STEAM. Eksperimentai                               0   \n",
            "175  Advento kalendorius. 24 kūrybinė...        Laura Bajoriūnė        3   \n",
            "\n",
            "             categories  \n",
            "0    Knygos mažiausiems  \n",
            "1    Knygos mažiausiems  \n",
            "2    Knygos mažiausiems  \n",
            "3    Knygos mažiausiems  \n",
            "4    Knygos mažiausiems  \n",
            "..                  ...  \n",
            "171  Smagioji edukacija  \n",
            "172  Smagioji edukacija  \n",
            "173  Smagioji edukacija  \n",
            "174  Smagioji edukacija  \n",
            "175  Smagioji edukacija  \n",
            "\n",
            "[176 rows x 4 columns]\n"
          ]
        }
      ]
    },
    {
      "cell_type": "markdown",
      "source": [
        "# Most popular books \n",
        "\n",
        "Then we will visualize which books are more popular according to their categories. "
      ],
      "metadata": {
        "id": "TkVP7VfsslF7"
      }
    },
    {
      "cell_type": "code",
      "source": [
        "df_sorted_reviews = df.sort_values(by=\"reviews\", ascending=False)\n",
        "print(df_sorted_reviews.head())\n",
        "dfg = df.groupby(['categories'])['reviews'].mean()\n",
        "\n",
        "dfg.plot(kind='bar', title='Reviews', ylabel='Mean reviews',\n",
        "         xlabel='Categories', figsize=(15, 5))\n"
      ],
      "metadata": {
        "colab": {
          "base_uri": "https://localhost:8080/",
          "height": 770
        },
        "id": "AES6ZwZZsw_D",
        "outputId": "b21dfc13-7fd2-433c-bd5b-c07a0f266c98"
      },
      "execution_count": null,
      "outputs": [
        {
          "output_type": "stream",
          "name": "stdout",
          "text": [
            "                                   Title                 author  reviews  \\\n",
            "158  TARP PILKŲ DEBESŲ: lietuvių kilm...           Ruta Sepetys      118   \n",
            "7    DŽYRU DŽYRU MUZIKĖLĖ: tarimą lav...  Aušra Žičkienė, Do...       75   \n",
            "10   MYLĖSIU TAVE, KAD IR KAS NUTIKTŲ...            Debi Gliori       75   \n",
            "6    RAIDŽIŲ NAMUČIAI. Eiliuota ir įg...        Ramutė Skučaitė       49   \n",
            "24                       Mažasis princas  Antoine de Saint-E...       46   \n",
            "\n",
            "                           categories lithuanian  \n",
            "158  Mokiniams rekomenduojamos knygos          Y  \n",
            "7                  Knygos mažiausiems          Y  \n",
            "10                 Knygos mažiausiems          Y  \n",
            "6                  Knygos mažiausiems          Y  \n",
            "24                     Knygos vaikams          Y  \n"
          ]
        },
        {
          "output_type": "execute_result",
          "data": {
            "text/plain": [
              "<matplotlib.axes._subplots.AxesSubplot at 0x7f5f79d4e450>"
            ]
          },
          "metadata": {},
          "execution_count": 241
        },
        {
          "output_type": "display_data",
          "data": {
            "text/plain": [
              "<Figure size 1080x360 with 1 Axes>"
            ],
            "image/png": "[encoded data removed]"
          },
          "metadata": {
            "needs_background": "light"
          }
        }
      ]
    },
    {
      "cell_type": "markdown",
      "source": [
        "We can see that the books that are the most reviewed are the books for young children and the ones recommended for the school. "
      ],
      "metadata": {
        "id": "n7EkTgerB19I"
      }
    },
    {
      "cell_type": "markdown",
      "source": [
        "# TOP 100\n",
        "Each book has as well a reference if it is in the top100 books on the website. Let's look what percentage that makes. \n",
        "\n"
      ],
      "metadata": {
        "id": "zYQnz4jY2D6D"
      }
    },
    {
      "cell_type": "code",
      "source": [
        "top_list = []\n",
        "top = soup.select(\".top-number\")\n",
        "for element in top: \n",
        "  top_list.append(element.get_text())\n",
        "print(f\"The percentage of youth literature books in the TOP100 is {len(set(top_list))}%.\")"
      ],
      "metadata": {
        "colab": {
          "base_uri": "https://localhost:8080/"
        },
        "id": "Lctrw31s5Zn6",
        "outputId": "982c8932-721c-4064-9614-94513c95e139"
      },
      "execution_count": null,
      "outputs": [
        {
          "output_type": "stream",
          "name": "stdout",
          "text": [
            "The percentage of youth literature books in the TOP100 is 6%.\n"
          ]
        }
      ]
    },
    {
      "cell_type": "markdown",
      "source": [
        "The highest ranked book is Piktulis (https://www.knygos.lt/lt/knygos/piktulis----siandien-nepyksta--/)\n",
        "\n"
      ],
      "metadata": {
        "id": "y9fs15Az5hrp"
      }
    },
    {
      "cell_type": "markdown",
      "source": [
        "# Nationality of the author\n",
        "\n",
        "I would like to know what percentage of books are written by Lithuanians. Lithuanian diacritical marks (\"ąčęėįšųū\") may help me to identify books that are written by Lithuanians.\n",
        "\n",
        "I noticed that the search indeed seemed to admit mainly Lithuanians although at least two persons whose nationality is not Lithuanian were included in the selection (Pavla Hanáčková, of Czech origin and Ester Dobiášová). However, I keep this approach as it gives me a good approximation. I removed Mrs. Hanáčková and Dobiášová with the .remove() function. "
      ],
      "metadata": {
        "id": "QgZfKmIdWHpq"
      }
    },
    {
      "cell_type": "code",
      "source": [
        "lit = \"[ąčęėįšųū]\"\n",
        "lit_author = []\n",
        "for author in df[\"author\"]: \n",
        "  if re.search(lit, author): \n",
        "    lit_author.append(author)\n",
        "\n",
        "lit_author.remove(\"Pavla Hanáčková\")\n",
        "lit_author.remove(\"Ester Dobiášová, J...\")\n",
        "\n",
        "print(f\"The percentage of books in the corpus written by Lituanians is {round((len(lit_author)/len(authors_list))*100,2)} %.\")\n",
        "#TO DO !!!!!\n"
      ],
      "metadata": {
        "colab": {
          "base_uri": "https://localhost:8080/"
        },
        "id": "KnPf0ENVW30A",
        "outputId": "737421b5-d273-464d-e696-116c643a9d1e"
      },
      "execution_count": null,
      "outputs": [
        {
          "output_type": "stream",
          "name": "stdout",
          "text": [
            "The percentage of books in the corpus written by Lituanians is 15.91 %.\n"
          ]
        }
      ]
    },
    {
      "cell_type": "markdown",
      "source": [
        "# Information about the price\n",
        "\n"
      ],
      "metadata": {
        "id": "Pu-EFOb6R2vM"
      }
    },
    {
      "cell_type": "code",
      "source": [
        "# Create list of prices (new and old)\n",
        "price_new_list = []\n",
        "price_old_list_all = []\n",
        "price_old_list = []\n",
        "price_new = soup.select(\".col-12 .new-price\")\n",
        "for element in price_new:\n",
        "  price_new_list.append(float(element.get_text()[:-2].replace(',','.')))\n",
        "price_old = soup.select(\".col-12 .old-price\")\n",
        "for element in price_old:\n",
        "  price_old_list_all.append(element.get_text()[:-2])\n",
        "for element in price_old_list_all: \n",
        "  if element[0] != \"-\": \n",
        "    price_old_list.append(float(element.replace(',','.')))\n",
        "\n",
        "print(f\"The average price for a book is {round(sum(price_old_list)/len(price_old_list),2)} euros and {round(sum(price_new_list)/len(price_new_list),2)} euros with discount.\")\n",
        "print(f\"The maximum price for a book is {max(price_old_list)} euros.\")\n",
        "print(f\"The minimum price for a book is {min(price_old_list)} euros.\")\n"
      ],
      "metadata": {
        "colab": {
          "base_uri": "https://localhost:8080/"
        },
        "id": "mzG-QXK0R8LV",
        "outputId": "2b7d5035-8bc1-4c03-8021-d67c2decb864"
      },
      "execution_count": null,
      "outputs": [
        {
          "output_type": "stream",
          "name": "stdout",
          "text": [
            "The average price for a book is 13.05 euros and 9.85 euros with discount.\n",
            "The maximum price for a book is 99.0 euros.\n",
            "The minimum price for a book is 2.19 euros.\n"
          ]
        }
      ]
    },
    {
      "cell_type": "markdown",
      "source": [
        "# Conclusion\n",
        "As noted in this article (https://www.15min.lt/kultura/naujiena/literatura/isaugo-knygu-pardavimas-internetu-daugiausia-vaiku-literaturos-286-1304822), children's literature has done quite well in recent years(especially for younger children), and this has been amplified by the COVID crisis. \n",
        "\n",
        "This phenomenon is probably due to the necessity for parents to be involved in the upbringing of their children during the quarantine period."
      ],
      "metadata": {
        "id": "_N36nhxi-5ew"
      }
    }
  ]
}