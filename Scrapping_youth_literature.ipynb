{
  "nbformat": 4,
  "nbformat_minor": 0,
  "metadata": {
    "colab": {
      "name": "Scrapping youth literature.ipynb",
      "provenance": [],
      "collapsed_sections": [],
      "authorship_tag": "ABX9TyNyPq8AUemjIsjGaGmBsK0h",
      "include_colab_link": true
    },
    "kernelspec": {
      "name": "python3",
      "display_name": "Python 3"
    },
    "language_info": {
      "name": "python"
    }
  },
  "cells": [
    {
      "cell_type": "markdown",
      "metadata": {
        "id": "view-in-github",
        "colab_type": "text"
      },
      "source": [
        "<a href=\"https://colab.research.google.com/github/StMaCre/web_scrapping_youth_literature_lithuania/blob/main/Scrapping_youth_literature.ipynb\" target=\"_parent\"><img src=\"https://colab.research.google.com/assets/colab-badge.svg\" alt=\"Open In Colab\"/></a>"
      ]
    },
    {
      "cell_type": "markdown",
      "source": [
        "# Web Scrapping - Youth literature in Lithuania\n",
        "Researching information about youth literature in Lithuania by scraping the two largest sites for book sales (knygos.lt and knyguklubas.lt).\n",
        "\n",
        "Question I'd like to answer : \n",
        "* What are the most popular categories of books? \n",
        "* What is the percentage of foreign authors? \n",
        "* What is the average price?\n",
        "* Which categories of books are the most expensive? \n",
        "* What are the most reviewed books?\n",
        "\n"
      ],
      "metadata": {
        "id": "D-XXKXWxOTNW"
      }
    },
    {
      "cell_type": "code",
      "execution_count": 11,
      "metadata": {
        "id": "3ARQXtH5OP8J"
      },
      "outputs": [],
      "source": [
        "import requests \n",
        "import re\n",
        "from bs4 import BeautifulSoup \n",
        "import pandas as pd\n",
        "from pprint import pprint\n",
        "from matplotlib import pyplot as plt\n",
        "pd.options.mode.chained_assignment = None  \n",
        "\n",
        "\n",
        "ws = requests.get(\"https://www.knygos.lt/lt/knygos/zanras/literatura-vaikams-ir-jaunimui/\")\n",
        "soup = BeautifulSoup(ws.content, \"html.parser\")"
      ]
    },
    {
      "cell_type": "markdown",
      "source": [
        "**Selection of books**\n",
        "\n",
        "Looking at the html file from Knygos.lt you can see that the class for the properties of the books is called \"book-properties\" divided into \".book-author\", \".book-title\" and \".book-price\". To limit the selection to the grid containing Youth literature, we need to select the class \"col-12\" (otherwise we would include the promotions that are not related to our topic). \n",
        "\n",
        "There are stars linked to each book. However, in order to analyse the popularity of a book, the number of reviews given to this book seems more relevant. This number is available under the class .badge .badge-secondary.\n"
      ],
      "metadata": {
        "id": "RKguUptUlZ8x"
      }
    },
    {
      "cell_type": "code",
      "source": [
        "book_dict = {}\n",
        "for idx, book in enumerate(soup.select(\".col-12 .book-properties-block\")): \n",
        "  book_dict[idx] = []\n",
        "  for author in book.select(\".book-author\"):  \n",
        "    book_dict[idx].append(author.get_text())\n",
        "  for title in book.select(\".book-title\"):\n",
        "    book_dict[idx].append(title.get_text())\n",
        "  for review in book.select(\".badge-secondary\"):\n",
        "    book_dict[idx].append(review.get_text())\n",
        "  for price in book.select(\".book-price\"): \n",
        "    book_dict[idx].append(float(price.get_text()[:-2].replace(',','.')))\n",
        "    "
      ],
      "metadata": {
        "id": "2TWSziTF0op9"
      },
      "execution_count": 2,
      "outputs": []
    },
    {
      "cell_type": "markdown",
      "source": [
        "**Getting the different categories**\n",
        "\n",
        "The youth literature books are divided into 11 categories. Each catgeory is represented by 16 books. Let's add them to our dictionnary. \n"
      ],
      "metadata": {
        "id": "HE6urHfksQK3"
      }
    },
    {
      "cell_type": "code",
      "source": [
        "categories_list = []\n",
        "categories = soup.select(\"h2 a\")\n",
        "for element in categories: \n",
        "  categories_list.append(element.get_text()[1:].strip())\n",
        "\n",
        "for categorie in categories_list : \n",
        "  print(categorie)\n",
        "\n",
        "Categories = []\n",
        "for element in categories_list:\n",
        "    for i in range(16):\n",
        "      Categories.append(element)\n",
        "\n",
        "for i in range(176):\n",
        "  book_dict.get(i).append(Categories[i])\n"
      ],
      "metadata": {
        "colab": {
          "base_uri": "https://localhost:8080/"
        },
        "id": "Apz-1PmlspVq",
        "outputId": "c2d61f95-0bbd-4839-cf97-d9426033c7b2"
      },
      "execution_count": 3,
      "outputs": [
        {
          "output_type": "stream",
          "name": "stdout",
          "text": [
            "Knygos mažiausiems\n",
            "Knygos vaikams\n",
            "Knygos paaugliams\n",
            "Pažintinė literatūra vaikams\n",
            "Pasakos\n",
            "Kakė Makė\n",
            "Lavinamosios, užduočių knygelės\n",
            "Veiklos knygelės\n",
            "Kalėdinės knygelės\n",
            "Mokiniams rekomenduojamos knygos\n",
            "Smagioji edukacija\n"
          ]
        }
      ]
    },
    {
      "cell_type": "markdown",
      "source": [
        "# Creating a dataframe with the informations\n",
        "\n"
      ],
      "metadata": {
        "id": "nNJwP4ykCmRE"
      }
    },
    {
      "cell_type": "code",
      "source": [
        "df_lithuania = pd.DataFrame.from_dict(book_dict, orient=\"index\", columns=[\"name\", \"title\", \"review\", \"price\", \"category\"])\n",
        "\n",
        "df_lithuania.info()"
      ],
      "metadata": {
        "colab": {
          "base_uri": "https://localhost:8080/"
        },
        "id": "MgpBeKKxDRQt",
        "outputId": "1bec53d1-e24a-46ff-a333-cc2c9374128d"
      },
      "execution_count": 4,
      "outputs": [
        {
          "output_type": "stream",
          "name": "stdout",
          "text": [
            "<class 'pandas.core.frame.DataFrame'>\n",
            "Int64Index: 176 entries, 0 to 175\n",
            "Data columns (total 5 columns):\n",
            " #   Column    Non-Null Count  Dtype  \n",
            "---  ------    --------------  -----  \n",
            " 0   name      176 non-null    object \n",
            " 1   title     176 non-null    object \n",
            " 2   review    176 non-null    object \n",
            " 3   price     176 non-null    float64\n",
            " 4   category  176 non-null    object \n",
            "dtypes: float64(1), object(4)\n",
            "memory usage: 8.2+ KB\n"
          ]
        }
      ]
    },
    {
      "cell_type": "markdown",
      "source": [
        "# Cleaning the data \n"
      ],
      "metadata": {
        "id": "5VSj5xxofyr6"
      }
    },
    {
      "cell_type": "code",
      "source": [
        "df_lithuania[\"review\"].replace('', 0, inplace=True) \n",
        "df_lithuania[\"review\"] = df_lithuania[\"review\"].astype(int)\n",
        "\n",
        "print(df_lithuania)"
      ],
      "metadata": {
        "colab": {
          "base_uri": "https://localhost:8080/"
        },
        "id": "jgTC3sMHf4Ap",
        "outputId": "5dc739e7-3bb6-4e1f-ac08-44171388a3d9"
      },
      "execution_count": 5,
      "outputs": [
        {
          "output_type": "stream",
          "name": "stdout",
          "text": [
            "                      name                                title  review  \\\n",
            "0    Aprilkind, Barbara...                             Piktulis      13   \n",
            "1     Indrė Pavilonytė,...           Marmiai. Draugystės magija       4   \n",
            "2                                                 Mano lopšinės      19   \n",
            "3          Ramutė Skučaitė  RAIDŽIŲ NAMUČIAI. Eiliuota ir įg...      50   \n",
            "4    Aušra Žičkienė, Do...  DŽYRU DŽYRU MUZIKĖLĖ: tarimą lav...      75   \n",
            "..                     ...                                  ...     ...   \n",
            "171     Viltarė Ryčkovienė  Jurgis Bielinis ir mažieji knygn...       0   \n",
            "172           Gareth Moore  Smegenų mankšta. Iššūkis: jaunoj...       2   \n",
            "173                           Kūrybinės užduotys 4 metų vaikams       0   \n",
            "174                                        STEAM. Eksperimentai       0   \n",
            "175        Laura Bajoriūnė  Advento kalendorius. 24 kūrybinė...       3   \n",
            "\n",
            "     price            category  \n",
            "0     7.46  Knygos mažiausiems  \n",
            "1     9.23  Knygos mažiausiems  \n",
            "2     8.96  Knygos mažiausiems  \n",
            "3    12.59  Knygos mažiausiems  \n",
            "4    13.19  Knygos mažiausiems  \n",
            "..     ...                 ...  \n",
            "171   4.75  Smagioji edukacija  \n",
            "172   4.69  Smagioji edukacija  \n",
            "173   7.55  Smagioji edukacija  \n",
            "174   7.39  Smagioji edukacija  \n",
            "175  10.55  Smagioji edukacija  \n",
            "\n",
            "[176 rows x 5 columns]\n"
          ]
        }
      ]
    },
    {
      "cell_type": "markdown",
      "source": [
        "# Describe the data"
      ],
      "metadata": {
        "id": "jYI5HFKylXzV"
      }
    },
    {
      "cell_type": "code",
      "source": [
        "df_lithuania.describe()"
      ],
      "metadata": {
        "colab": {
          "base_uri": "https://localhost:8080/",
          "height": 300
        },
        "id": "iEeHsk0-ldWn",
        "outputId": "a85d8adc-24f9-492f-a5a4-54f78fb8b00e"
      },
      "execution_count": 6,
      "outputs": [
        {
          "output_type": "execute_result",
          "data": {
            "text/plain": [
              "           review       price\n",
              "count  176.000000  176.000000\n",
              "mean     5.380682    9.191591\n",
              "std     15.082534    7.531445\n",
              "min      0.000000    1.890000\n",
              "25%      0.000000    4.735000\n",
              "50%      0.000000    7.845000\n",
              "75%      2.000000   11.990000\n",
              "max    118.000000   84.990000"
            ],
            "text/html": [
              "\n",
              "  <div id=\"df-59700d0a-17fe-4c0b-af62-1e35a8b7dc65\">\n",
              "    <div class=\"colab-df-container\">\n",
              "      <div>\n",
              "<style scoped>\n",
              "    .dataframe tbody tr th:only-of-type {\n",
              "        vertical-align: middle;\n",
              "    }\n",
              "\n",
              "    .dataframe tbody tr th {\n",
              "        vertical-align: top;\n",
              "    }\n",
              "\n",
              "    .dataframe thead th {\n",
              "        text-align: right;\n",
              "    }\n",
              "</style>\n",
              "<table border=\"1\" class=\"dataframe\">\n",
              "  <thead>\n",
              "    <tr style=\"text-align: right;\">\n",
              "      <th></th>\n",
              "      <th>review</th>\n",
              "      <th>price</th>\n",
              "    </tr>\n",
              "  </thead>\n",
              "  <tbody>\n",
              "    <tr>\n",
              "      <th>count</th>\n",
              "      <td>176.000000</td>\n",
              "      <td>176.000000</td>\n",
              "    </tr>\n",
              "    <tr>\n",
              "      <th>mean</th>\n",
              "      <td>5.380682</td>\n",
              "      <td>9.191591</td>\n",
              "    </tr>\n",
              "    <tr>\n",
              "      <th>std</th>\n",
              "      <td>15.082534</td>\n",
              "      <td>7.531445</td>\n",
              "    </tr>\n",
              "    <tr>\n",
              "      <th>min</th>\n",
              "      <td>0.000000</td>\n",
              "      <td>1.890000</td>\n",
              "    </tr>\n",
              "    <tr>\n",
              "      <th>25%</th>\n",
              "      <td>0.000000</td>\n",
              "      <td>4.735000</td>\n",
              "    </tr>\n",
              "    <tr>\n",
              "      <th>50%</th>\n",
              "      <td>0.000000</td>\n",
              "      <td>7.845000</td>\n",
              "    </tr>\n",
              "    <tr>\n",
              "      <th>75%</th>\n",
              "      <td>2.000000</td>\n",
              "      <td>11.990000</td>\n",
              "    </tr>\n",
              "    <tr>\n",
              "      <th>max</th>\n",
              "      <td>118.000000</td>\n",
              "      <td>84.990000</td>\n",
              "    </tr>\n",
              "  </tbody>\n",
              "</table>\n",
              "</div>\n",
              "      <button class=\"colab-df-convert\" onclick=\"convertToInteractive('df-59700d0a-17fe-4c0b-af62-1e35a8b7dc65')\"\n",
              "              title=\"Convert this dataframe to an interactive table.\"\n",
              "              style=\"display:none;\">\n",
              "        \n",
              "  <svg xmlns=\"http://www.w3.org/2000/svg\" height=\"24px\"viewBox=\"0 0 24 24\"\n",
              "       width=\"24px\">\n",
              "    <path d=\"M0 0h24v24H0V0z\" fill=\"none\"/>\n",
              "    <path d=\"M18.56 5.44l.94 2.06.94-2.06 2.06-.94-2.06-.94-.94-2.06-.94 2.06-2.06.94zm-11 1L8.5 8.5l.94-2.06 2.06-.94-2.06-.94L8.5 2.5l-.94 2.06-2.06.94zm10 10l.94 2.06.94-2.06 2.06-.94-2.06-.94-.94-2.06-.94 2.06-2.06.94z\"/><path d=\"M17.41 7.96l-1.37-1.37c-.4-.4-.92-.59-1.43-.59-.52 0-1.04.2-1.43.59L10.3 9.45l-7.72 7.72c-.78.78-.78 2.05 0 2.83L4 21.41c.39.39.9.59 1.41.59.51 0 1.02-.2 1.41-.59l7.78-7.78 2.81-2.81c.8-.78.8-2.07 0-2.86zM5.41 20L4 18.59l7.72-7.72 1.47 1.35L5.41 20z\"/>\n",
              "  </svg>\n",
              "      </button>\n",
              "      \n",
              "  <style>\n",
              "    .colab-df-container {\n",
              "      display:flex;\n",
              "      flex-wrap:wrap;\n",
              "      gap: 12px;\n",
              "    }\n",
              "\n",
              "    .colab-df-convert {\n",
              "      background-color: #E8F0FE;\n",
              "      border: none;\n",
              "      border-radius: 50%;\n",
              "      cursor: pointer;\n",
              "      display: none;\n",
              "      fill: #1967D2;\n",
              "      height: 32px;\n",
              "      padding: 0 0 0 0;\n",
              "      width: 32px;\n",
              "    }\n",
              "\n",
              "    .colab-df-convert:hover {\n",
              "      background-color: #E2EBFA;\n",
              "      box-shadow: 0px 1px 2px rgba(60, 64, 67, 0.3), 0px 1px 3px 1px rgba(60, 64, 67, 0.15);\n",
              "      fill: #174EA6;\n",
              "    }\n",
              "\n",
              "    [theme=dark] .colab-df-convert {\n",
              "      background-color: #3B4455;\n",
              "      fill: #D2E3FC;\n",
              "    }\n",
              "\n",
              "    [theme=dark] .colab-df-convert:hover {\n",
              "      background-color: #434B5C;\n",
              "      box-shadow: 0px 1px 3px 1px rgba(0, 0, 0, 0.15);\n",
              "      filter: drop-shadow(0px 1px 2px rgba(0, 0, 0, 0.3));\n",
              "      fill: #FFFFFF;\n",
              "    }\n",
              "  </style>\n",
              "\n",
              "      <script>\n",
              "        const buttonEl =\n",
              "          document.querySelector('#df-59700d0a-17fe-4c0b-af62-1e35a8b7dc65 button.colab-df-convert');\n",
              "        buttonEl.style.display =\n",
              "          google.colab.kernel.accessAllowed ? 'block' : 'none';\n",
              "\n",
              "        async function convertToInteractive(key) {\n",
              "          const element = document.querySelector('#df-59700d0a-17fe-4c0b-af62-1e35a8b7dc65');\n",
              "          const dataTable =\n",
              "            await google.colab.kernel.invokeFunction('convertToInteractive',\n",
              "                                                     [key], {});\n",
              "          if (!dataTable) return;\n",
              "\n",
              "          const docLinkHtml = 'Like what you see? Visit the ' +\n",
              "            '<a target=\"_blank\" href=https://colab.research.google.com/notebooks/data_table.ipynb>data table notebook</a>'\n",
              "            + ' to learn more about interactive tables.';\n",
              "          element.innerHTML = '';\n",
              "          dataTable['output_type'] = 'display_data';\n",
              "          await google.colab.output.renderOutput(dataTable, element);\n",
              "          const docLink = document.createElement('div');\n",
              "          docLink.innerHTML = docLinkHtml;\n",
              "          element.appendChild(docLink);\n",
              "        }\n",
              "      </script>\n",
              "    </div>\n",
              "  </div>\n",
              "  "
            ]
          },
          "metadata": {},
          "execution_count": 6
        }
      ]
    },
    {
      "cell_type": "markdown",
      "source": [
        "**Describing the reviews**\n",
        "\n",
        "Then we will visualize which books and which categories get the more reviews."
      ],
      "metadata": {
        "id": "TkVP7VfsslF7"
      }
    },
    {
      "cell_type": "code",
      "source": [
        "df_sorted_reviews = df_lithuania.sort_values(by=\"review\", ascending=False)\n",
        "print(df_sorted_reviews.head())\n",
        "dfg = df_lithuania.groupby(['category'])['review'].mean()\n",
        "\n",
        "dfg.plot(kind='bar', title='Reviews Children literature in Lithuania', ylabel='Mean reviews',\n",
        "         xlabel='Categories', figsize=(15, 5))\n"
      ],
      "metadata": {
        "colab": {
          "base_uri": "https://localhost:8080/",
          "height": 770
        },
        "id": "AES6ZwZZsw_D",
        "outputId": "e45936a4-7e49-4376-b09a-bf9395d92a14"
      },
      "execution_count": 7,
      "outputs": [
        {
          "output_type": "stream",
          "name": "stdout",
          "text": [
            "                      name                                title  review  \\\n",
            "159           Ruta Sepetys  TARP PILKŲ DEBESŲ: lietuvių kilm...     118   \n",
            "4    Aušra Žičkienė, Do...  DŽYRU DŽYRU MUZIKĖLĖ: tarimą lav...      75   \n",
            "7              Debi Gliori  MYLĖSIU TAVE, KAD IR KAS NUTIKTŲ...      75   \n",
            "3          Ramutė Skučaitė  RAIDŽIŲ NAMUČIAI. Eiliuota ir įg...      50   \n",
            "146  Antoine de Saint-E...                      Mažasis princas      46   \n",
            "\n",
            "     price                          category  \n",
            "159   5.06  Mokiniams rekomenduojamos knygos  \n",
            "4    13.19                Knygos mažiausiems  \n",
            "7     4.67                Knygos mažiausiems  \n",
            "3    12.59                Knygos mažiausiems  \n",
            "146   5.06  Mokiniams rekomenduojamos knygos  \n"
          ]
        },
        {
          "output_type": "execute_result",
          "data": {
            "text/plain": [
              "<matplotlib.axes._subplots.AxesSubplot at 0x7f2e4e3404d0>"
            ]
          },
          "metadata": {},
          "execution_count": 7
        },
        {
          "output_type": "display_data",
          "data": {
            "text/plain": [
              "<Figure size 1080x360 with 1 Axes>"
            ],
            "image/png": "[encoded data removed]"
          },
          "metadata": {
            "needs_background": "light"
          }
        }
      ]
    },
    {
      "cell_type": "markdown",
      "source": [
        "We can see that the books that are the most reviewed are the books for young children and the ones recommended for the school.\n",
        "\n"
      ],
      "metadata": {
        "id": "n7EkTgerB19I"
      }
    },
    {
      "cell_type": "markdown",
      "source": [
        "**Describing the price**\n",
        "\n",
        "\n",
        "\n"
      ],
      "metadata": {
        "id": "H-yesGq4yHOi"
      }
    },
    {
      "cell_type": "code",
      "source": [
        "df_sorted_price = df_lithuania.sort_values(by=\"price\", ascending=False)\n",
        "print(df_sorted_price.head())\n",
        "dfg = df_lithuania.groupby(['category'])['price'].mean()\n",
        "\n",
        "dfg.plot(kind='bar', title='Price Children literature in Lithuania', ylabel='Mean price',\n",
        "         xlabel='Categories', figsize=(15, 5))"
      ],
      "metadata": {
        "colab": {
          "base_uri": "https://localhost:8080/",
          "height": 770
        },
        "id": "-vLtUiIWsw2G",
        "outputId": "97ac488d-4e6c-4b0b-ee08-f3262f3e9136"
      },
      "execution_count": 8,
      "outputs": [
        {
          "output_type": "stream",
          "name": "stdout",
          "text": [
            "                      name                                title  review  \\\n",
            "73                           DIDŽIOJI PASAKŲ KNYGA: garsieji...       0   \n",
            "46         Herman Melville           Mobis Dikas, arba Banginis       3   \n",
            "122         Eglė Labukienė   Kakė Makė. Abėcėlė. Lavinamasis...       0   \n",
            "81          Eglė Labukienė   Kakė Makė. Abėcėlė. Lavinamasis...       0   \n",
            "129  Ernst Theodor Amad...  SPRAGTUKAS IR PELIŲ KARALIUS: pi...       1   \n",
            "\n",
            "     price            category  \n",
            "73   84.99             Pasakos  \n",
            "46   26.99   Knygos paaugliams  \n",
            "122  24.49    Veiklos knygelės  \n",
            "81   24.49           Kakė Makė  \n",
            "129  21.25  Kalėdinės knygelės  \n"
          ]
        },
        {
          "output_type": "execute_result",
          "data": {
            "text/plain": [
              "<matplotlib.axes._subplots.AxesSubplot at 0x7f2e4e3e4350>"
            ]
          },
          "metadata": {},
          "execution_count": 8
        },
        {
          "output_type": "display_data",
          "data": {
            "text/plain": [
              "<Figure size 1080x360 with 1 Axes>"
            ],
            "image/png": "[encoded data removed]"
          },
          "metadata": {
            "needs_background": "light"
          }
        }
      ]
    },
    {
      "cell_type": "markdown",
      "source": [
        "**Correlation between price and reviews**\n"
      ],
      "metadata": {
        "id": "uLbiqacp0tXf"
      }
    },
    {
      "cell_type": "code",
      "source": [
        "df_lithuania_no_outliers = df_lithuania.drop([73])\n",
        "df_lithuania_no_outliers.plot.scatter(x=\"price\", y=\"review\", c=\"DarkBlue\")\n",
        "plt.title(\"Correlation between the price and the number of reviews\")"
      ],
      "metadata": {
        "colab": {
          "base_uri": "https://localhost:8080/",
          "height": 312
        },
        "id": "NUdkmOE21BhV",
        "outputId": "ac082753-e56a-4e0a-a18a-2292908d437b"
      },
      "execution_count": 12,
      "outputs": [
        {
          "output_type": "execute_result",
          "data": {
            "text/plain": [
              "Text(0.5, 1.0, 'Correlation between the price and the number of reviews')"
            ]
          },
          "metadata": {},
          "execution_count": 12
        },
        {
          "output_type": "display_data",
          "data": {
            "text/plain": [
              "<Figure size 432x288 with 1 Axes>"
            ],
            "image/png": "[encoded data removed]"
          },
          "metadata": {
            "needs_background": "light"
          }
        }
      ]
    },
    {
      "cell_type": "markdown",
      "source": [
        "# Nationality of the author\n",
        "\n",
        "I would like to know what percentage of books are written by Lithuanians. Lithuanian diacritical marks (\"ąčęėįšųū\") may help me to identify books that are written by Lithuanians.\n",
        "\n",
        "I noticed that the search indeed seemed to admit mainly Lithuanians although at least two persons whose nationality is not Lithuanian were included in the selection (Pavla Hanáčková, of Czech origin and Ester Dobiášová). However, I keep this approach as it gives me a good approximation. I removed Mrs. Hanáčková and Dobiášová with the .remove() function. "
      ],
      "metadata": {
        "id": "QgZfKmIdWHpq"
      }
    },
    {
      "cell_type": "code",
      "source": [
        "lit = \"[ąčęėįšųūžĄČĘĖĮŠŲŪŽ]\"\n",
        "lit_author = []\n",
        "for author in df_lithuania[\"name\"]: \n",
        "  if re.search(lit, author): \n",
        "    lit_author.append(author)\n",
        "  elif \"Vytautas\" in author: \n",
        "    lit_author.append(author) \n",
        "  elif \"Linas\" in author:\n",
        "    lit_author.append(author)\n",
        "  elif \"Ruta\" in author:\n",
        "    lit_author.append(author)\n",
        "\n",
        "lit_author.remove(\"Pavla Hanáčková\")\n",
        "lit_author.remove(\"Ester Dobiášová, J...\")\n",
        "\n",
        "print(f\"The percentage of books in the corpus written by Lituanians is {round(((len(lit_author))/176)*100,2)}%.\")\n",
        "\n",
        "df_lithuania[\"lithuanian\"] = \"N\"\n",
        "\n",
        "for i in range(len(df_lithuania.index)): \n",
        "  for author in lit_author: \n",
        "    if df_lithuania[\"name\"].iloc[i] == author:\n",
        "      df_lithuania[\"lithuanian\"].iloc[i] = \"Y\"\n",
        "      break \n",
        "    else : \n",
        "      df_lithuania[\"lithuanian\"].iloc[i] =\"N\"\n",
        "      continue\n",
        "\n",
        "print(df_lithuania.sample(20))\n"
      ],
      "metadata": {
        "colab": {
          "base_uri": "https://localhost:8080/"
        },
        "id": "KnPf0ENVW30A",
        "outputId": "a44c848d-93fa-463f-b569-de0ff793b64d"
      },
      "execution_count": 13,
      "outputs": [
        {
          "output_type": "stream",
          "name": "stdout",
          "text": [
            "The percentage of books in the corpus written by Lituanians is 19.32%.\n",
            "                      name                                title  review  \\\n",
            "47         Mats Strandberg                              Pabaiga       0   \n",
            "90                          Kakė Makė ir katinas vienai sava...       2   \n",
            "60                Adam Kay  Žmogaus anatomija: išsamus (ir p...       1   \n",
            "21          Richard Scarry           Ką žmonės dirba visą dieną      35   \n",
            "97                                      Zuikio Puikio atradimai       0   \n",
            "73                           DIDŽIOJI PASAKŲ KNYGA: garsieji...       0   \n",
            "23            J.K. Rowling  Haris Poteris ir Paslapčių kamba...      13   \n",
            "104                         Linksmos užduotėlės su lipdukais...       0   \n",
            "164         Agnese Baruzzi   Žaisk ir mokykis: veiklos knyga...       0   \n",
            "35   Antoine de Saint-E...                      Mažasis princas      46   \n",
            "119                                Pixar. Spalvink su lipdukais       0   \n",
            "51   Jana Sedlačkova, Š...  Pažink miško gyvūnus kartu su Ra...       0   \n",
            "88                                    Kakė Makė mokosi. Abėcėlė       0   \n",
            "171     Viltarė Ryčkovienė  Jurgis Bielinis ir mažieji knygn...       0   \n",
            "92                          Kakė Makė. Žiemos šėlionės. Didy...       1   \n",
            "70                          Našlaitėlis ir milžinas (didžios...       0   \n",
            "145         Richard Scarry           Ką žmonės dirba visą dieną      35   \n",
            "139             Dawn Casey                       Žiemos pasakos       0   \n",
            "123                             Spalvink pagal skaičius. Papūga       0   \n",
            "105                         Linksmos užduotėlės su lipdukais...       0   \n",
            "\n",
            "     price                          category lithuanian  \n",
            "47   14.69                 Knygos paaugliams          N  \n",
            "90    3.35                         Kakė Makė          N  \n",
            "60   11.89      Pažintinė literatūra vaikams          N  \n",
            "21    7.60                    Knygos vaikams          N  \n",
            "97    3.19   Lavinamosios, užduočių knygelės          N  \n",
            "73   84.99                           Pasakos          N  \n",
            "23    9.79                    Knygos vaikams          N  \n",
            "104   4.75   Lavinamosios, užduočių knygelės          N  \n",
            "164   4.68                Smagioji edukacija          N  \n",
            "35    5.06                 Knygos paaugliams          N  \n",
            "119   3.65                  Veiklos knygelės          N  \n",
            "51   12.49      Pažintinė literatūra vaikams          Y  \n",
            "88   15.88                         Kakė Makė          N  \n",
            "171   4.75                Smagioji edukacija          Y  \n",
            "92    4.89                         Kakė Makė          N  \n",
            "70    2.79                           Pasakos          N  \n",
            "145   7.60  Mokiniams rekomenduojamos knygos          N  \n",
            "139  10.57                Kalėdinės knygelės          N  \n",
            "123   4.75                  Veiklos knygelės          N  \n",
            "105   4.75   Lavinamosios, užduočių knygelės          N  \n"
          ]
        }
      ]
    },
    {
      "cell_type": "markdown",
      "source": [
        "I want to know if Lithuanians writer get more reviews than non-Lithuanian."
      ],
      "metadata": {
        "id": "2vV1qAtgJYcN"
      }
    },
    {
      "cell_type": "code",
      "source": [
        "review_lit = df_lithuania.groupby(\"lithuanian\")[\"review\"].sum()\n",
        "Lithuanian_average = round(review_lit[\"Y\"]/34, 2)\n",
        "Non_Lithuanian_average = round(review_lit[\"N\"]/142, 2)\n",
        "print(f\"Books written by Lithuanian writer receive on average {Lithuanian_average} reviews.\")\n",
        "print(f\"Books written by non-Lithuanian writer receive on averge {Non_Lithuanian_average} reviews.\")\n"
      ],
      "metadata": {
        "colab": {
          "base_uri": "https://localhost:8080/"
        },
        "id": "Av-J3peOF0On",
        "outputId": "572e4bc1-3346-4ebc-ff60-bbb3f367ea7c"
      },
      "execution_count": 14,
      "outputs": [
        {
          "output_type": "stream",
          "name": "stdout",
          "text": [
            "Books written by Lithuanian writer receive on average 9.56 reviews.\n",
            "Books written by non-Lithuanian writer receive on averge 4.38 reviews.\n"
          ]
        }
      ]
    },
    {
      "cell_type": "markdown",
      "source": [
        "Let's take out the outlier (Ruta Sepetys) to see the new average. "
      ],
      "metadata": {
        "id": "IJKLSZ6yiHJn"
      }
    },
    {
      "cell_type": "code",
      "source": [
        "df_lithuania_no_sepetys = df_lithuania.drop(159)\n",
        "review_lit = df_lithuania_no_sepetys.groupby(\"lithuanian\")[\"review\"].sum()\n",
        "Lithuanian_average = round(review_lit[\"Y\"]/33, 2)\n",
        "Non_Lithuanian_average = round(review_lit[\"N\"]/143, 2)\n",
        "print(f\"Books written by Lithuanian writer receive on average {Lithuanian_average} reviews.\")\n",
        "print(f\"Books written by non-Lithuanian writer receive on averge {Non_Lithuanian_average} reviews.\")"
      ],
      "metadata": {
        "colab": {
          "base_uri": "https://localhost:8080/"
        },
        "id": "-hvTktELD4M1",
        "outputId": "2ae02144-e4a2-494e-ecde-f85ebfd2466c"
      },
      "execution_count": 15,
      "outputs": [
        {
          "output_type": "stream",
          "name": "stdout",
          "text": [
            "Books written by Lithuanian writer receive on average 6.27 reviews.\n",
            "Books written by non-Lithuanian writer receive on averge 4.35 reviews.\n"
          ]
        }
      ]
    },
    {
      "cell_type": "markdown",
      "source": [
        "# TOP 100\n",
        "Each book has as well a reference if it is in the top100 books on the website. Let's look what percentage that makes. \n",
        "\n"
      ],
      "metadata": {
        "id": "zYQnz4jY2D6D"
      }
    },
    {
      "cell_type": "code",
      "source": [
        "top_list = []\n",
        "top = soup.select(\".top-number\")\n",
        "for element in top: \n",
        "  top_list.append(element.get_text())\n",
        "print(f\"The percentage of youth literature books in the TOP100 is {len(set(top_list))}%.\")"
      ],
      "metadata": {
        "colab": {
          "base_uri": "https://localhost:8080/"
        },
        "id": "Lctrw31s5Zn6",
        "outputId": "d1a2a29c-1c46-403f-fa12-c0360ca65410"
      },
      "execution_count": 16,
      "outputs": [
        {
          "output_type": "stream",
          "name": "stdout",
          "text": [
            "The percentage of youth literature books in the TOP100 is 6%.\n"
          ]
        }
      ]
    }
  ]
}